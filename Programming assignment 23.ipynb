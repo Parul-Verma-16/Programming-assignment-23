{
 "cells": [
  {
   "cell_type": "markdown",
   "id": "7ad0d115",
   "metadata": {},
   "source": [
    "## 1) Create a function that takes a number as an argument and returns True or False depending on whether the number is symmetrical or not. A number is symmetrical when it is the same as its reverse."
   ]
  },
  {
   "cell_type": "code",
   "execution_count": 1,
   "id": "141e304b",
   "metadata": {},
   "outputs": [
    {
     "name": "stdout",
     "output_type": "stream",
     "text": [
      "True\n",
      "False\n",
      "True\n",
      "False\n",
      "True\n"
     ]
    }
   ],
   "source": [
    "def is_symmetrical(number):\n",
    "    return str(number) == str(number)[::-1]\n",
    "print(is_symmetrical(7227))         # Output: True\n",
    "print(is_symmetrical(12567))        # Output: False\n",
    "print(is_symmetrical(44444444))     # Output: True\n",
    "print(is_symmetrical(9939))         # Output: False\n",
    "print(is_symmetrical(1112111))      # Output: True"
   ]
  },
  {
   "cell_type": "markdown",
   "id": "5959bfc3",
   "metadata": {},
   "source": [
    "## 2) Given a string of numbers separated by a comma and space, return the product of the numbers."
   ]
  },
  {
   "cell_type": "code",
   "execution_count": 2,
   "id": "285f5570",
   "metadata": {},
   "outputs": [
    {
     "name": "stdout",
     "output_type": "stream",
     "text": [
      "6\n",
      "24\n",
      "0\n",
      "-20\n"
     ]
    }
   ],
   "source": [
    "def multiply_nums(numbers):\n",
    "    num_list = [int(num) for num in numbers.split(', ')]\n",
    "    product = 1\n",
    "    for num in num_list:\n",
    "        product *= num\n",
    "    return product\n",
    "print(multiply_nums(\"2, 3\"))                 # Output: 6\n",
    "print(multiply_nums(\"1, 2, 3, 4\"))           # Output: 24\n",
    "print(multiply_nums(\"54, 75, 453, 0\"))       # Output: 0\n",
    "print(multiply_nums(\"10, -2\"))               # Output: -20"
   ]
  },
  {
   "cell_type": "markdown",
   "id": "e2778a75",
   "metadata": {},
   "source": [
    "## 3) Create a function that squares every digit of a number."
   ]
  },
  {
   "cell_type": "code",
   "execution_count": 3,
   "id": "093de60c",
   "metadata": {},
   "outputs": [
    {
     "name": "stdout",
     "output_type": "stream",
     "text": [
      "811181\n",
      "416649\n",
      "9414\n"
     ]
    }
   ],
   "source": [
    "def square_digits(number):\n",
    "    result = \"\"\n",
    "    for digit in str(number):\n",
    "        square = int(digit) ** 2\n",
    "        result += str(square)\n",
    "    return int(result)\n",
    "print(square_digits(9119))  # Output: 811181\n",
    "print(square_digits(2483))  # Output: 416649\n",
    "print(square_digits(3212))  # Output: 9414"
   ]
  },
  {
   "cell_type": "markdown",
   "id": "18dcd6f5",
   "metadata": {},
   "source": [
    "## 4) Create a function that sorts a list and removes all duplicate items from it."
   ]
  },
  {
   "cell_type": "code",
   "execution_count": 4,
   "id": "4b5a83ff",
   "metadata": {},
   "outputs": [
    {
     "name": "stdout",
     "output_type": "stream",
     "text": [
      "[1, 3, 5]\n",
      "[4]\n",
      "[5, 7, 8, 9, 10, 15]\n",
      "[1, 2, 3]\n"
     ]
    }
   ],
   "source": [
    "def setify(lst):\n",
    "    return sorted(set(lst))\n",
    "print(setify([1, 3, 3, 5, 5]))              # Output: [1, 3, 5]\n",
    "print(setify([4, 4, 4, 4]))                 # Output: [4]\n",
    "print(setify([5, 7, 8, 9, 10, 15]))         # Output: [5, 7, 8, 9, 10, 15]\n",
    "print(setify([3, 3, 3, 2, 1]))              # Output: [1, 2, 3]"
   ]
  },
  {
   "cell_type": "markdown",
   "id": "c7123ffb",
   "metadata": {},
   "source": [
    "## 5) Create a function that returns the mean of all digits."
   ]
  },
  {
   "cell_type": "code",
   "execution_count": 5,
   "id": "e87c1d01",
   "metadata": {},
   "outputs": [
    {
     "name": "stdout",
     "output_type": "stream",
     "text": [
      "3\n",
      "3\n",
      "6\n"
     ]
    }
   ],
   "source": [
    "def mean(number):\n",
    "    digits = [int(digit) for digit in str(number)]\n",
    "    return sum(digits) // len(digits)\n",
    "print(mean(42))           # Output: 3\n",
    "print(mean(12345))        # Output: 3\n",
    "print(mean(666))          # Output: 6"
   ]
  }
 ],
 "metadata": {
  "kernelspec": {
   "display_name": "Python 3 (ipykernel)",
   "language": "python",
   "name": "python3"
  },
  "language_info": {
   "codemirror_mode": {
    "name": "ipython",
    "version": 3
   },
   "file_extension": ".py",
   "mimetype": "text/x-python",
   "name": "python",
   "nbconvert_exporter": "python",
   "pygments_lexer": "ipython3",
   "version": "3.9.13"
  }
 },
 "nbformat": 4,
 "nbformat_minor": 5
}
